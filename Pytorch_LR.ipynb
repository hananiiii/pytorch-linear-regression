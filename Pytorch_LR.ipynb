{
  "nbformat": 4,
  "nbformat_minor": 0,
  "metadata": {
    "colab": {
      "provenance": [],
      "gpuType": "T4"
    },
    "kernelspec": {
      "name": "python3",
      "display_name": "Python 3"
    },
    "language_info": {
      "name": "python"
    },
    "accelerator": "GPU"
  },
  "cells": [
    {
      "cell_type": "code",
      "execution_count": 1,
      "metadata": {
        "id": "tno8Tz7UJXNh"
      },
      "outputs": [],
      "source": [
        "import torch\n",
        "from torch import nn # nn stands for neural network\n",
        "import matplotlib.pyplot as plt"
      ]
    },
    {
      "cell_type": "code",
      "source": [
        "# Setup device agnostic code\n",
        "device = \"cuda\" if torch.cuda.is_available() else \"cpu\"\n",
        "print(f\"Using device: {device}\")"
      ],
      "metadata": {
        "colab": {
          "base_uri": "https://localhost:8080/"
        },
        "id": "DJJ2LBktJso1",
        "outputId": "91bda1db-9851-4e78-d69c-739ed10fd41b"
      },
      "execution_count": 2,
      "outputs": [
        {
          "output_type": "stream",
          "name": "stdout",
          "text": [
            "Using device: cuda\n"
          ]
        }
      ]
    },
    {
      "cell_type": "code",
      "source": [
        "weight = 0.3\n",
        "bias = 0.9\n",
        "\n",
        "# Create data\n",
        "start = 0\n",
        "end = 1\n",
        "step = 0.01\n",
        "X = torch.arange(start, end, step).unsqueeze(dim=1)\n",
        "y = weight * X + bias\n",
        "X[:] ,y[:]"
      ],
      "metadata": {
        "colab": {
          "base_uri": "https://localhost:8080/"
        },
        "id": "togmO11dKBzt",
        "outputId": "e14587ed-9890-450b-931b-f5fcc34f014f"
      },
      "execution_count": 3,
      "outputs": [
        {
          "output_type": "execute_result",
          "data": {
            "text/plain": [
              "(tensor([[0.0000],\n",
              "         [0.0100],\n",
              "         [0.0200],\n",
              "         [0.0300],\n",
              "         [0.0400],\n",
              "         [0.0500],\n",
              "         [0.0600],\n",
              "         [0.0700],\n",
              "         [0.0800],\n",
              "         [0.0900],\n",
              "         [0.1000],\n",
              "         [0.1100],\n",
              "         [0.1200],\n",
              "         [0.1300],\n",
              "         [0.1400],\n",
              "         [0.1500],\n",
              "         [0.1600],\n",
              "         [0.1700],\n",
              "         [0.1800],\n",
              "         [0.1900],\n",
              "         [0.2000],\n",
              "         [0.2100],\n",
              "         [0.2200],\n",
              "         [0.2300],\n",
              "         [0.2400],\n",
              "         [0.2500],\n",
              "         [0.2600],\n",
              "         [0.2700],\n",
              "         [0.2800],\n",
              "         [0.2900],\n",
              "         [0.3000],\n",
              "         [0.3100],\n",
              "         [0.3200],\n",
              "         [0.3300],\n",
              "         [0.3400],\n",
              "         [0.3500],\n",
              "         [0.3600],\n",
              "         [0.3700],\n",
              "         [0.3800],\n",
              "         [0.3900],\n",
              "         [0.4000],\n",
              "         [0.4100],\n",
              "         [0.4200],\n",
              "         [0.4300],\n",
              "         [0.4400],\n",
              "         [0.4500],\n",
              "         [0.4600],\n",
              "         [0.4700],\n",
              "         [0.4800],\n",
              "         [0.4900],\n",
              "         [0.5000],\n",
              "         [0.5100],\n",
              "         [0.5200],\n",
              "         [0.5300],\n",
              "         [0.5400],\n",
              "         [0.5500],\n",
              "         [0.5600],\n",
              "         [0.5700],\n",
              "         [0.5800],\n",
              "         [0.5900],\n",
              "         [0.6000],\n",
              "         [0.6100],\n",
              "         [0.6200],\n",
              "         [0.6300],\n",
              "         [0.6400],\n",
              "         [0.6500],\n",
              "         [0.6600],\n",
              "         [0.6700],\n",
              "         [0.6800],\n",
              "         [0.6900],\n",
              "         [0.7000],\n",
              "         [0.7100],\n",
              "         [0.7200],\n",
              "         [0.7300],\n",
              "         [0.7400],\n",
              "         [0.7500],\n",
              "         [0.7600],\n",
              "         [0.7700],\n",
              "         [0.7800],\n",
              "         [0.7900],\n",
              "         [0.8000],\n",
              "         [0.8100],\n",
              "         [0.8200],\n",
              "         [0.8300],\n",
              "         [0.8400],\n",
              "         [0.8500],\n",
              "         [0.8600],\n",
              "         [0.8700],\n",
              "         [0.8800],\n",
              "         [0.8900],\n",
              "         [0.9000],\n",
              "         [0.9100],\n",
              "         [0.9200],\n",
              "         [0.9300],\n",
              "         [0.9400],\n",
              "         [0.9500],\n",
              "         [0.9600],\n",
              "         [0.9700],\n",
              "         [0.9800],\n",
              "         [0.9900]]),\n",
              " tensor([[0.9000],\n",
              "         [0.9030],\n",
              "         [0.9060],\n",
              "         [0.9090],\n",
              "         [0.9120],\n",
              "         [0.9150],\n",
              "         [0.9180],\n",
              "         [0.9210],\n",
              "         [0.9240],\n",
              "         [0.9270],\n",
              "         [0.9300],\n",
              "         [0.9330],\n",
              "         [0.9360],\n",
              "         [0.9390],\n",
              "         [0.9420],\n",
              "         [0.9450],\n",
              "         [0.9480],\n",
              "         [0.9510],\n",
              "         [0.9540],\n",
              "         [0.9570],\n",
              "         [0.9600],\n",
              "         [0.9630],\n",
              "         [0.9660],\n",
              "         [0.9690],\n",
              "         [0.9720],\n",
              "         [0.9750],\n",
              "         [0.9780],\n",
              "         [0.9810],\n",
              "         [0.9840],\n",
              "         [0.9870],\n",
              "         [0.9900],\n",
              "         [0.9930],\n",
              "         [0.9960],\n",
              "         [0.9990],\n",
              "         [1.0020],\n",
              "         [1.0050],\n",
              "         [1.0080],\n",
              "         [1.0110],\n",
              "         [1.0140],\n",
              "         [1.0170],\n",
              "         [1.0200],\n",
              "         [1.0230],\n",
              "         [1.0260],\n",
              "         [1.0290],\n",
              "         [1.0320],\n",
              "         [1.0350],\n",
              "         [1.0380],\n",
              "         [1.0410],\n",
              "         [1.0440],\n",
              "         [1.0470],\n",
              "         [1.0500],\n",
              "         [1.0530],\n",
              "         [1.0560],\n",
              "         [1.0590],\n",
              "         [1.0620],\n",
              "         [1.0650],\n",
              "         [1.0680],\n",
              "         [1.0710],\n",
              "         [1.0740],\n",
              "         [1.0770],\n",
              "         [1.0800],\n",
              "         [1.0830],\n",
              "         [1.0860],\n",
              "         [1.0890],\n",
              "         [1.0920],\n",
              "         [1.0950],\n",
              "         [1.0980],\n",
              "         [1.1010],\n",
              "         [1.1040],\n",
              "         [1.1070],\n",
              "         [1.1100],\n",
              "         [1.1130],\n",
              "         [1.1160],\n",
              "         [1.1190],\n",
              "         [1.1220],\n",
              "         [1.1250],\n",
              "         [1.1280],\n",
              "         [1.1310],\n",
              "         [1.1340],\n",
              "         [1.1370],\n",
              "         [1.1400],\n",
              "         [1.1430],\n",
              "         [1.1460],\n",
              "         [1.1490],\n",
              "         [1.1520],\n",
              "         [1.1550],\n",
              "         [1.1580],\n",
              "         [1.1610],\n",
              "         [1.1640],\n",
              "         [1.1670],\n",
              "         [1.1700],\n",
              "         [1.1730],\n",
              "         [1.1760],\n",
              "         [1.1790],\n",
              "         [1.1820],\n",
              "         [1.1850],\n",
              "         [1.1880],\n",
              "         [1.1910],\n",
              "         [1.1940],\n",
              "         [1.1970]]))"
            ]
          },
          "metadata": {},
          "execution_count": 3
        }
      ]
    },
    {
      "cell_type": "code",
      "source": [
        "# Create train/test split\n",
        "train_split = int(0.8 * len(X)) # 80% of data used for training set, 20% for testing\n",
        "X_train, y_train = X[:train_split], y[:train_split]\n",
        "X_test, y_test = X[train_split:], y[train_split:]\n",
        "\n",
        "len(X_train), len(y_train), len(X_test), len(y_test)"
      ],
      "metadata": {
        "colab": {
          "base_uri": "https://localhost:8080/"
        },
        "id": "GqrrwysSKfTC",
        "outputId": "d4181861-c6ba-4d2a-9730-01a5bea5a417"
      },
      "execution_count": 4,
      "outputs": [
        {
          "output_type": "execute_result",
          "data": {
            "text/plain": [
              "(80, 80, 20, 20)"
            ]
          },
          "metadata": {},
          "execution_count": 4
        }
      ]
    },
    {
      "cell_type": "code",
      "source": [
        "# Move to device\n",
        "X_train, y_train = X_train.to(device), y_train.to(device)\n",
        "X_test, y_test = X_test.to(device), y_test.to(device)"
      ],
      "metadata": {
        "id": "4-eU4eGOKrdS"
      },
      "execution_count": 5,
      "outputs": []
    },
    {
      "cell_type": "code",
      "source": [
        "def plot_predictions(train_data=X_train,\n",
        "                     train_labels=y_train,\n",
        "                     test_data=X_test,\n",
        "                     test_labels=y_test,\n",
        "                     predictions=None):\n",
        "  \"\"\"\n",
        "  Plots training data, test data and compares predictions.\n",
        "  \"\"\"\n",
        "  plt.figure(figsize=(10, 7))\n",
        "\n",
        "  # Plot training data in blue\n",
        "  plt.scatter(train_data.cpu().numpy(), train_labels.cpu().numpy(), c=\"b\", s=4, label=\"Training data\")\n",
        "\n",
        "  # Plot test data in green\n",
        "  plt.scatter(test_data.cpu().numpy(), test_labels.cpu().numpy(), c=\"g\", s=4, label=\"Testing data\")\n",
        "\n",
        "  if predictions is not None:\n",
        "    # Plot the predictions in red (predictions were made on the test data)\n",
        "    plt.scatter(test_data.cpu().numpy(), predictions.cpu().detach().numpy(), c=\"r\", s=4, label=\"Predictions\")\n",
        "\n",
        "  # Show the legend\n",
        "  plt.legend(prop={\"size\": 14});"
      ],
      "metadata": {
        "id": "s4ZhbxWHKw9G"
      },
      "execution_count": 6,
      "outputs": []
    },
    {
      "cell_type": "code",
      "source": [
        "plot_predictions();"
      ],
      "metadata": {
        "colab": {
          "base_uri": "https://localhost:8080/",
          "height": 599
        },
        "id": "k3JgpfmvK0pa",
        "outputId": "6b7f9354-3ba0-45b6-b6b2-7b6b83350de1"
      },
      "execution_count": 7,
      "outputs": [
        {
          "output_type": "display_data",
          "data": {
            "text/plain": [
              "<Figure size 1000x700 with 1 Axes>"
            ],
            "image/png": "[encoded data removed]"
          },
          "metadata": {}
        }
      ]
    },
    {
      "cell_type": "code",
      "source": [
        "class LinearRegressionModel(nn.Module): # <- almost everything in PyTorch is a nn.Module (think of this as neural network lego blocks)\n",
        "    def __init__(self):\n",
        "        super().__init__()\n",
        "        self.weights = nn.Parameter(torch.randn(1, # <- start with random weights (this will get adjusted as the model learns)\n",
        "                                                dtype=torch.float), # <- PyTorch loves float32 by default\n",
        "                                   requires_grad=True) # <- can we update this value with gradient descent?)\n",
        "\n",
        "        self.bias = nn.Parameter(torch.randn(1, # <- start with random bias (this will get adjusted as the model learns)\n",
        "                                            dtype=torch.float), # <- PyTorch loves float32 by default\n",
        "                                requires_grad=True) # <- can we update this value with gradient descent?))\n",
        "\n",
        "    # Forward defines the computation in the model\n",
        "    def forward(self, x: torch.Tensor) -> torch.Tensor: # <- \"x\" is the input data (e.g. training/testing features)\n",
        "        return self.weights * x + self.bias # <- this is the linear regression formula (y = m*x + b)"
      ],
      "metadata": {
        "id": "rrQ6VfpdLuvE"
      },
      "execution_count": 8,
      "outputs": []
    },
    {
      "cell_type": "code",
      "source": [
        "# Set manual seed since nn.Parameter are randomly initialized\n",
        "torch.manual_seed(42)\n",
        "\n",
        "# Create an instance of the model (this is a subclass of nn.Module that contains nn.Parameter(s))\n",
        "model_0 = LinearRegressionModel()\n",
        "\n",
        "# Check the nn.Parameter(s) within the nn.Module subclass we created\n",
        "list(model_0.parameters())"
      ],
      "metadata": {
        "colab": {
          "base_uri": "https://localhost:8080/"
        },
        "id": "UHLf-vobL4UU",
        "outputId": "87b0b1f3-bb1b-4622-8cc3-629ee5172e3f"
      },
      "execution_count": 9,
      "outputs": [
        {
          "output_type": "execute_result",
          "data": {
            "text/plain": [
              "[Parameter containing:\n",
              " tensor([0.3367], requires_grad=True),\n",
              " Parameter containing:\n",
              " tensor([0.1288], requires_grad=True)]"
            ]
          },
          "metadata": {},
          "execution_count": 9
        }
      ]
    },
    {
      "cell_type": "code",
      "source": [
        "model_0.state_dict()"
      ],
      "metadata": {
        "colab": {
          "base_uri": "https://localhost:8080/"
        },
        "id": "NVtrZPm1L7bM",
        "outputId": "ab0accbd-3e04-4c48-df43-e9efaf4d5239"
      },
      "execution_count": 10,
      "outputs": [
        {
          "output_type": "execute_result",
          "data": {
            "text/plain": [
              "OrderedDict([('weights', tensor([0.3367])), ('bias', tensor([0.1288]))])"
            ]
          },
          "metadata": {},
          "execution_count": 10
        }
      ]
    },
    {
      "cell_type": "code",
      "source": [
        "model = LinearRegressionModel().to(device)\n",
        "print(\"Initial model parameters:\")\n",
        "print(model.state_dict())\n"
      ],
      "metadata": {
        "colab": {
          "base_uri": "https://localhost:8080/"
        },
        "id": "p9RSg5E2NkMc",
        "outputId": "9ce443a3-2024-4527-fbbe-b9c9a522e0e3"
      },
      "execution_count": 11,
      "outputs": [
        {
          "output_type": "stream",
          "name": "stdout",
          "text": [
            "Initial model parameters:\n",
            "OrderedDict([('weights', tensor([0.2345], device='cuda:0')), ('bias', tensor([0.2303], device='cuda:0'))])\n"
          ]
        }
      ]
    },
    {
      "cell_type": "code",
      "source": [
        "# Create the loss function\n",
        "loss_fn = nn.L1Loss() # MAE loss is same as L1Loss\n",
        "\n",
        "# Create the optimizer\n",
        "optimizer = torch.optim.SGD(params=model.parameters(), # parameters of target model to optimize\n",
        "                            lr=0.01)"
      ],
      "metadata": {
        "id": "he_0hJWtL_5s"
      },
      "execution_count": 12,
      "outputs": []
    },
    {
      "cell_type": "code",
      "source": [
        "torch.manual_seed(42)\n",
        "\n",
        "# Set the number of epochs (how many times the model will pass over the training data)\n",
        "epochs = 1000\n",
        "\n",
        "# Create empty loss lists to track values\n",
        "train_loss_values = []\n",
        "test_loss_values = []\n",
        "epoch_count = []\n",
        "\n",
        "for epoch in range(epochs):\n",
        "    ### Training\n",
        "\n",
        "    # Put model in training mode (this is the default state of a model)\n",
        "    model_0.train()\n",
        "\n",
        "    # 1. Forward pass on train data using the forward() method inside\n",
        "    y_pred = model(X_train)\n",
        "    # print(y_pred)\n",
        "\n",
        "    # 2. Calculate the loss (how different are our models predictions to the ground truth)\n",
        "    loss = loss_fn(y_pred, y_train)\n",
        "\n",
        "    # 3. Zero grad of the optimizer\n",
        "    optimizer.zero_grad()\n",
        "\n",
        "    # 4. Loss backwards\n",
        "    loss.backward()\n",
        "\n",
        "    # 5. Progress the optimizer\n",
        "    optimizer.step()\n",
        "\n",
        "    ### Testing\n",
        "\n",
        "    # Put the model in evaluation mode\n",
        "    model_0.eval()\n",
        "\n",
        "    with torch.inference_mode():\n",
        "      # 1. Forward pass on test data\n",
        "      test_pred = model(X_test)\n",
        "\n",
        "      # 2. Caculate loss on test data\n",
        "      test_loss = loss_fn(test_pred, y_test.type(torch.float)) # predictions come in torch.float datatype, so comparisons need to be done with tensors of the same type\n",
        "\n",
        "      # Print out what's happening\n",
        "      if epoch % 10 == 0:\n",
        "            epoch_count.append(epoch)\n",
        "            train_loss_values.append(loss.cpu().detach().numpy())\n",
        "            test_loss_values.append(test_loss.cpu().detach().numpy())\n",
        "            print(f\"Epoch: {epoch} | MAE Train Loss: {loss} | MAE Test Loss: {test_loss} \")"
      ],
      "metadata": {
        "colab": {
          "base_uri": "https://localhost:8080/"
        },
        "id": "CKJJsxCvMLpt",
        "outputId": "ff9a1738-94e5-481d-cb7b-9039c08787e0"
      },
      "execution_count": 14,
      "outputs": [
        {
          "output_type": "stream",
          "name": "stdout",
          "text": [
            "Epoch: 0 | MAE Train Loss: 0.6839940547943115 | MAE Test Loss: 0.7012526392936707 \n",
            "Epoch: 10 | MAE Train Loss: 0.5683916807174683 | MAE Test Loss: 0.5659002661705017 \n",
            "Epoch: 20 | MAE Train Loss: 0.45278921723365784 | MAE Test Loss: 0.4305478632450104 \n",
            "Epoch: 30 | MAE Train Loss: 0.3371868133544922 | MAE Test Loss: 0.29519540071487427 \n",
            "Epoch: 40 | MAE Train Loss: 0.22158442437648773 | MAE Test Loss: 0.15984301269054413 \n",
            "Epoch: 50 | MAE Train Loss: 0.10598199814558029 | MAE Test Loss: 0.024490607902407646 \n",
            "Epoch: 60 | MAE Train Loss: 0.034922435879707336 | MAE Test Loss: 0.06243162229657173 \n",
            "Epoch: 70 | MAE Train Loss: 0.029798269271850586 | MAE Test Loss: 0.06705108284950256 \n",
            "Epoch: 80 | MAE Train Loss: 0.026342665776610374 | MAE Test Loss: 0.06044179946184158 \n",
            "Epoch: 90 | MAE Train Loss: 0.02291560173034668 | MAE Test Loss: 0.052793946117162704 \n",
            "Epoch: 100 | MAE Train Loss: 0.01948852837085724 | MAE Test Loss: 0.045146066695451736 \n",
            "Epoch: 110 | MAE Train Loss: 0.016062447801232338 | MAE Test Loss: 0.03715428709983826 \n",
            "Epoch: 120 | MAE Train Loss: 0.012636953964829445 | MAE Test Loss: 0.028818542137742043 \n",
            "Epoch: 130 | MAE Train Loss: 0.009211248718202114 | MAE Test Loss: 0.020826715975999832 \n",
            "Epoch: 140 | MAE Train Loss: 0.005785161163657904 | MAE Test Loss: 0.012834913097321987 \n",
            "Epoch: 150 | MAE Train Loss: 0.0023600689601153135 | MAE Test Loss: 0.004501390736550093 \n",
            "Epoch: 160 | MAE Train Loss: 0.0036998323630541563 | MAE Test Loss: 0.006523138377815485 \n",
            "Epoch: 170 | MAE Train Loss: 0.0036998323630541563 | MAE Test Loss: 0.006523138377815485 \n",
            "Epoch: 180 | MAE Train Loss: 0.0036998323630541563 | MAE Test Loss: 0.006523138377815485 \n",
            "Epoch: 190 | MAE Train Loss: 0.0036998323630541563 | MAE Test Loss: 0.006523138377815485 \n",
            "Epoch: 200 | MAE Train Loss: 0.0036998323630541563 | MAE Test Loss: 0.006523138377815485 \n",
            "Epoch: 210 | MAE Train Loss: 0.0036998323630541563 | MAE Test Loss: 0.006523138377815485 \n",
            "Epoch: 220 | MAE Train Loss: 0.0036998323630541563 | MAE Test Loss: 0.006523138377815485 \n",
            "Epoch: 230 | MAE Train Loss: 0.0036998323630541563 | MAE Test Loss: 0.006523138377815485 \n",
            "Epoch: 240 | MAE Train Loss: 0.0036998323630541563 | MAE Test Loss: 0.006523138377815485 \n",
            "Epoch: 250 | MAE Train Loss: 0.0036998323630541563 | MAE Test Loss: 0.006523138377815485 \n",
            "Epoch: 260 | MAE Train Loss: 0.0036998323630541563 | MAE Test Loss: 0.006523138377815485 \n",
            "Epoch: 270 | MAE Train Loss: 0.0036998323630541563 | MAE Test Loss: 0.006523138377815485 \n",
            "Epoch: 280 | MAE Train Loss: 0.0036998323630541563 | MAE Test Loss: 0.006523138377815485 \n",
            "Epoch: 290 | MAE Train Loss: 0.0036998323630541563 | MAE Test Loss: 0.006523138377815485 \n",
            "Epoch: 300 | MAE Train Loss: 0.0036998323630541563 | MAE Test Loss: 0.006523138377815485 \n",
            "Epoch: 310 | MAE Train Loss: 0.0036998323630541563 | MAE Test Loss: 0.006523138377815485 \n",
            "Epoch: 320 | MAE Train Loss: 0.0036998323630541563 | MAE Test Loss: 0.006523138377815485 \n",
            "Epoch: 330 | MAE Train Loss: 0.0036998323630541563 | MAE Test Loss: 0.006523138377815485 \n",
            "Epoch: 340 | MAE Train Loss: 0.0036998323630541563 | MAE Test Loss: 0.006523138377815485 \n",
            "Epoch: 350 | MAE Train Loss: 0.0036998323630541563 | MAE Test Loss: 0.006523138377815485 \n",
            "Epoch: 360 | MAE Train Loss: 0.0036998323630541563 | MAE Test Loss: 0.006523138377815485 \n",
            "Epoch: 370 | MAE Train Loss: 0.0036998323630541563 | MAE Test Loss: 0.006523138377815485 \n",
            "Epoch: 380 | MAE Train Loss: 0.0036998323630541563 | MAE Test Loss: 0.006523138377815485 \n",
            "Epoch: 390 | MAE Train Loss: 0.0036998323630541563 | MAE Test Loss: 0.006523138377815485 \n",
            "Epoch: 400 | MAE Train Loss: 0.0036998323630541563 | MAE Test Loss: 0.006523138377815485 \n",
            "Epoch: 410 | MAE Train Loss: 0.0036998323630541563 | MAE Test Loss: 0.006523138377815485 \n",
            "Epoch: 420 | MAE Train Loss: 0.0036998323630541563 | MAE Test Loss: 0.006523138377815485 \n",
            "Epoch: 430 | MAE Train Loss: 0.0036998323630541563 | MAE Test Loss: 0.006523138377815485 \n",
            "Epoch: 440 | MAE Train Loss: 0.0036998323630541563 | MAE Test Loss: 0.006523138377815485 \n",
            "Epoch: 450 | MAE Train Loss: 0.0036998323630541563 | MAE Test Loss: 0.006523138377815485 \n",
            "Epoch: 460 | MAE Train Loss: 0.0036998323630541563 | MAE Test Loss: 0.006523138377815485 \n",
            "Epoch: 470 | MAE Train Loss: 0.0036998323630541563 | MAE Test Loss: 0.006523138377815485 \n",
            "Epoch: 480 | MAE Train Loss: 0.0036998323630541563 | MAE Test Loss: 0.006523138377815485 \n",
            "Epoch: 490 | MAE Train Loss: 0.0036998323630541563 | MAE Test Loss: 0.006523138377815485 \n",
            "Epoch: 500 | MAE Train Loss: 0.0036998323630541563 | MAE Test Loss: 0.006523138377815485 \n",
            "Epoch: 510 | MAE Train Loss: 0.0036998323630541563 | MAE Test Loss: 0.006523138377815485 \n",
            "Epoch: 520 | MAE Train Loss: 0.0036998323630541563 | MAE Test Loss: 0.006523138377815485 \n",
            "Epoch: 530 | MAE Train Loss: 0.0036998323630541563 | MAE Test Loss: 0.006523138377815485 \n",
            "Epoch: 540 | MAE Train Loss: 0.0036998323630541563 | MAE Test Loss: 0.006523138377815485 \n",
            "Epoch: 550 | MAE Train Loss: 0.0036998323630541563 | MAE Test Loss: 0.006523138377815485 \n",
            "Epoch: 560 | MAE Train Loss: 0.0036998323630541563 | MAE Test Loss: 0.006523138377815485 \n",
            "Epoch: 570 | MAE Train Loss: 0.0036998323630541563 | MAE Test Loss: 0.006523138377815485 \n",
            "Epoch: 580 | MAE Train Loss: 0.0036998323630541563 | MAE Test Loss: 0.006523138377815485 \n",
            "Epoch: 590 | MAE Train Loss: 0.0036998323630541563 | MAE Test Loss: 0.006523138377815485 \n",
            "Epoch: 600 | MAE Train Loss: 0.0036998323630541563 | MAE Test Loss: 0.006523138377815485 \n",
            "Epoch: 610 | MAE Train Loss: 0.0036998323630541563 | MAE Test Loss: 0.006523138377815485 \n",
            "Epoch: 620 | MAE Train Loss: 0.0036998323630541563 | MAE Test Loss: 0.006523138377815485 \n",
            "Epoch: 630 | MAE Train Loss: 0.0036998323630541563 | MAE Test Loss: 0.006523138377815485 \n",
            "Epoch: 640 | MAE Train Loss: 0.0036998323630541563 | MAE Test Loss: 0.006523138377815485 \n",
            "Epoch: 650 | MAE Train Loss: 0.0036998323630541563 | MAE Test Loss: 0.006523138377815485 \n",
            "Epoch: 660 | MAE Train Loss: 0.0036998323630541563 | MAE Test Loss: 0.006523138377815485 \n",
            "Epoch: 670 | MAE Train Loss: 0.0036998323630541563 | MAE Test Loss: 0.006523138377815485 \n",
            "Epoch: 680 | MAE Train Loss: 0.0036998323630541563 | MAE Test Loss: 0.006523138377815485 \n",
            "Epoch: 690 | MAE Train Loss: 0.0036998323630541563 | MAE Test Loss: 0.006523138377815485 \n",
            "Epoch: 700 | MAE Train Loss: 0.0036998323630541563 | MAE Test Loss: 0.006523138377815485 \n",
            "Epoch: 710 | MAE Train Loss: 0.0036998323630541563 | MAE Test Loss: 0.006523138377815485 \n",
            "Epoch: 720 | MAE Train Loss: 0.0036998323630541563 | MAE Test Loss: 0.006523138377815485 \n",
            "Epoch: 730 | MAE Train Loss: 0.0036998323630541563 | MAE Test Loss: 0.006523138377815485 \n",
            "Epoch: 740 | MAE Train Loss: 0.0036998323630541563 | MAE Test Loss: 0.006523138377815485 \n",
            "Epoch: 750 | MAE Train Loss: 0.0036998323630541563 | MAE Test Loss: 0.006523138377815485 \n",
            "Epoch: 760 | MAE Train Loss: 0.0036998323630541563 | MAE Test Loss: 0.006523138377815485 \n",
            "Epoch: 770 | MAE Train Loss: 0.0036998323630541563 | MAE Test Loss: 0.006523138377815485 \n",
            "Epoch: 780 | MAE Train Loss: 0.0036998323630541563 | MAE Test Loss: 0.006523138377815485 \n",
            "Epoch: 790 | MAE Train Loss: 0.0036998323630541563 | MAE Test Loss: 0.006523138377815485 \n",
            "Epoch: 800 | MAE Train Loss: 0.0036998323630541563 | MAE Test Loss: 0.006523138377815485 \n",
            "Epoch: 810 | MAE Train Loss: 0.0036998323630541563 | MAE Test Loss: 0.006523138377815485 \n",
            "Epoch: 820 | MAE Train Loss: 0.0036998323630541563 | MAE Test Loss: 0.006523138377815485 \n",
            "Epoch: 830 | MAE Train Loss: 0.0036998323630541563 | MAE Test Loss: 0.006523138377815485 \n",
            "Epoch: 840 | MAE Train Loss: 0.0036998323630541563 | MAE Test Loss: 0.006523138377815485 \n",
            "Epoch: 850 | MAE Train Loss: 0.0036998323630541563 | MAE Test Loss: 0.006523138377815485 \n",
            "Epoch: 860 | MAE Train Loss: 0.0036998323630541563 | MAE Test Loss: 0.006523138377815485 \n",
            "Epoch: 870 | MAE Train Loss: 0.0036998323630541563 | MAE Test Loss: 0.006523138377815485 \n",
            "Epoch: 880 | MAE Train Loss: 0.0036998323630541563 | MAE Test Loss: 0.006523138377815485 \n",
            "Epoch: 890 | MAE Train Loss: 0.0036998323630541563 | MAE Test Loss: 0.006523138377815485 \n",
            "Epoch: 900 | MAE Train Loss: 0.0036998323630541563 | MAE Test Loss: 0.006523138377815485 \n",
            "Epoch: 910 | MAE Train Loss: 0.0036998323630541563 | MAE Test Loss: 0.006523138377815485 \n",
            "Epoch: 920 | MAE Train Loss: 0.0036998323630541563 | MAE Test Loss: 0.006523138377815485 \n",
            "Epoch: 930 | MAE Train Loss: 0.0036998323630541563 | MAE Test Loss: 0.006523138377815485 \n",
            "Epoch: 940 | MAE Train Loss: 0.0036998323630541563 | MAE Test Loss: 0.006523138377815485 \n",
            "Epoch: 950 | MAE Train Loss: 0.0036998323630541563 | MAE Test Loss: 0.006523138377815485 \n",
            "Epoch: 960 | MAE Train Loss: 0.0036998323630541563 | MAE Test Loss: 0.006523138377815485 \n",
            "Epoch: 970 | MAE Train Loss: 0.0036998323630541563 | MAE Test Loss: 0.006523138377815485 \n",
            "Epoch: 980 | MAE Train Loss: 0.0036998323630541563 | MAE Test Loss: 0.006523138377815485 \n",
            "Epoch: 990 | MAE Train Loss: 0.0036998323630541563 | MAE Test Loss: 0.006523138377815485 \n"
          ]
        }
      ]
    },
    {
      "cell_type": "code",
      "source": [
        "model.eval()\n",
        "with torch.inference_mode():\n",
        "  # 3. Make sure the calculations are done with the model and data on the same device\n",
        "  # in our case, we haven't setup device-agnostic code yet so our data and model are\n",
        "  # on the CPU by default.\n",
        "  # model_0.to(device)\n",
        "  # X_test = X_test.to(device)\n",
        "  y_preds = model(X_test)\n",
        "y_preds"
      ],
      "metadata": {
        "colab": {
          "base_uri": "https://localhost:8080/"
        },
        "id": "UwHdLKKN5E0u",
        "outputId": "29359d82-3fdf-4f27-a88e-517863816d3a"
      },
      "execution_count": 16,
      "outputs": [
        {
          "output_type": "execute_result",
          "data": {
            "text/plain": [
              "tensor([[1.1464],\n",
              "        [1.1494],\n",
              "        [1.1525],\n",
              "        [1.1556],\n",
              "        [1.1586],\n",
              "        [1.1617],\n",
              "        [1.1648],\n",
              "        [1.1678],\n",
              "        [1.1709],\n",
              "        [1.1740],\n",
              "        [1.1770],\n",
              "        [1.1801],\n",
              "        [1.1832],\n",
              "        [1.1862],\n",
              "        [1.1893],\n",
              "        [1.1924],\n",
              "        [1.1954],\n",
              "        [1.1985],\n",
              "        [1.2016],\n",
              "        [1.2046]], device='cuda:0')"
            ]
          },
          "metadata": {},
          "execution_count": 16
        }
      ]
    },
    {
      "cell_type": "code",
      "source": [
        "plot_predictions(predictions=y_preds)"
      ],
      "metadata": {
        "colab": {
          "base_uri": "https://localhost:8080/",
          "height": 599
        },
        "id": "820u__Xy5pAE",
        "outputId": "983c09cd-5b1a-4916-d5c7-d66253c641eb"
      },
      "execution_count": 17,
      "outputs": [
        {
          "output_type": "display_data",
          "data": {
            "text/plain": [
              "<Figure size 1000x700 with 1 Axes>"
            ],
            "image/png": "[encoded data removed]"
          },
          "metadata": {}
        }
      ]
    },
    {
      "cell_type": "code",
      "source": [
        "from pathlib import Path\n",
        "\n",
        "# 1. Create models directory\n",
        "MODEL_PATH = Path(\"models\")\n",
        "MODEL_PATH.mkdir(parents=True, exist_ok=True)\n",
        "\n",
        "# 2. Create model save path\n",
        "MODEL_NAME = \"01_pytorch_workflow_model.pth\"\n",
        "MODEL_SAVE_PATH = MODEL_PATH / MODEL_NAME\n",
        "\n",
        "# 3. Save the model state dict\n",
        "print(f\"Saving model to: {MODEL_SAVE_PATH}\")\n",
        "torch.save(obj=model_0.state_dict(), # only saving the state_dict() only saves the models learned parameters\n",
        "           f=MODEL_SAVE_PATH)"
      ],
      "metadata": {
        "colab": {
          "base_uri": "https://localhost:8080/"
        },
        "id": "S0-SOlZi5vCc",
        "outputId": "e3949e88-fa39-4c76-b2c0-6ddb920190e3"
      },
      "execution_count": 18,
      "outputs": [
        {
          "output_type": "stream",
          "name": "stdout",
          "text": [
            "Saving model to: models/01_pytorch_workflow_model.pth\n"
          ]
        }
      ]
    }
  ]
}